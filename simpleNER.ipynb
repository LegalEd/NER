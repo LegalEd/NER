{
 "cells": [
  {
   "cell_type": "markdown",
   "metadata": {},
   "source": [
    "# A jupyter notebook for simple NER"
   ]
  },
  {
   "cell_type": "markdown",
   "metadata": {},
   "source": [
    "Named Entity Recognition (NER) in email string using spaCy's NER statistics module en_core_web_lg"
   ]
  },
  {
   "cell_type": "code",
   "execution_count": 24,
   "metadata": {},
   "outputs": [],
   "source": [
    "import sys\n",
    "#!{sys.executable} -m pip install spacy # install to jupyter notebook path\n",
    "#!{sys.executable} -m spacy download en_core_web_lg # Scapy NER statistics model (~85% accuracy) "
   ]
  },
  {
   "cell_type": "code",
   "execution_count": 25,
   "metadata": {},
   "outputs": [
    {
     "name": "stdout",
     "output_type": "stream",
     "text": [
      "starting program....\n",
      "finished loading...\n"
     ]
    }
   ],
   "source": [
    "import re\n",
    "import spacy\n",
    "\n",
    "print(\"starting program....\")\n",
    "\n",
    "nlp = spacy.load('en_core_web_lg') # load EN NER statistical models\n",
    "print(\"finished loading...\")\n",
    "\n",
    "\n",
    "\n",
    "\n"
   ]
  },
  {
   "cell_type": "code",
   "execution_count": 26,
   "metadata": {},
   "outputs": [],
   "source": [
    "string = \"\"\"\n",
    "Hi James ,\n",
    "\n",
    "Thank you for meeting with me in London.\n",
    "\n",
    "Sorry for not getting back to you sooner. I hate the delay but we will have to live with it.\n",
    "\n",
    "Did Claire send you the Barclays spreadsheet yesterday? It looks like it is very similar to the HSBC one we saw on Friday. Claire's email address is claire@sender.com and her telephone is  07816237458 if you need to get in contact with her.\n",
    "\n",
    "Speak soon\n",
    "\n",
    "Chris\n",
    "\"\"\""
   ]
  },
  {
   "cell_type": "code",
   "execution_count": 27,
   "metadata": {},
   "outputs": [],
   "source": [
    "def extract_phone_numbers(string):\n",
    "    r = re.compile(r'0(\\d{2}[-\\.\\s]??\\d{3}[-\\.\\s]??\\d{4}|\\(\\d{3}\\)\\s*\\d{3}[-\\.\\s]??\\d{4}|\\d{3}[-\\.\\s]??\\d{4})')\n",
    "    phone_numbers = r.findall(string)\n",
    "    return [re.sub(r'\\D', '', number) for number in phone_numbers]\n",
    "\n",
    "\n",
    "def extract_email_addresses(string):\n",
    "    r = re.compile(r'[\\w\\.-]+@[\\w\\.-]+')\n",
    "    return r.findall(string)\n",
    "\n",
    "\n",
    "def spacy_ner(document):\n",
    "    persons = []\n",
    "    print(\"running...\")\n",
    "    doc = nlp(document)\n",
    "    for ent in doc:\n",
    "        if ent.pos_ == \"PROPN\" and ent.ent_type_ == \"PERSON\":\n",
    "            persons.append(ent.text)\n",
    "           \n",
    "    return persons\n",
    "\n",
    "\n",
    "\n",
    "def subject(document):\n",
    "    doc = nlp(document)\n",
    "    sub_toks = [tok for tok in doc if (tok.dep_ == \"nsubj\")]\n",
    "    return sub_toks"
   ]
  },
  {
   "cell_type": "code",
   "execution_count": 28,
   "metadata": {
    "scrolled": true
   },
   "outputs": [
    {
     "name": "stdout",
     "output_type": "stream",
     "text": [
      "running...\n",
      "{'Chris', 'Claire', 'James'}\n",
      "{'781623745'}\n",
      "{'claire@sender.com'}\n"
     ]
    }
   ],
   "source": [
    "numbers = extract_phone_numbers(string)\n",
    "emails = extract_email_addresses(string)\n",
    "names = spacy_ner(string)\n",
    "print(set(names))\n",
    "print(set(numbers))\n",
    "print(set(emails))"
   ]
  },
  {
   "cell_type": "code",
   "execution_count": null,
   "metadata": {},
   "outputs": [],
   "source": []
  }
 ],
 "metadata": {
  "kernelspec": {
   "display_name": "Python 3",
   "language": "python",
   "name": "python3"
  },
  "language_info": {
   "codemirror_mode": {
    "name": "ipython",
    "version": 3
   },
   "file_extension": ".py",
   "mimetype": "text/x-python",
   "name": "python",
   "nbconvert_exporter": "python",
   "pygments_lexer": "ipython3",
   "version": "3.5.2"
  }
 },
 "nbformat": 4,
 "nbformat_minor": 2
}
